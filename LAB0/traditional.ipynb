{
 "cells": [
  {
   "attachments": {},
   "cell_type": "markdown",
   "metadata": {},
   "source": [
    "数据预处理（请自行安装所需包）"
   ]
  },
  {
   "cell_type": "code",
   "execution_count": 2,
   "metadata": {},
   "outputs": [
    {
     "name": "stdout",
     "output_type": "stream",
     "text": [
      "Requirement already satisfied: scikit-learn in d:\\python3.10.1\\lib\\site-packages (1.2.2)Note: you may need to restart the kernel to use updated packages.\n"
     ]
    },
    {
     "name": "stderr",
     "output_type": "stream",
     "text": [
      "WARNING: You are using pip version 21.2.4; however, version 23.1 is available.\n",
      "You should consider upgrading via the 'd:\\python3.10.1\\python.exe -m pip install --upgrade pip' command.\n"
     ]
    },
    {
     "name": "stdout",
     "output_type": "stream",
     "text": [
      "\n",
      "Requirement already satisfied: threadpoolctl>=2.0.0 in d:\\python3.10.1\\lib\\site-packages (from scikit-learn) (3.1.0)\n",
      "Requirement already satisfied: joblib>=1.1.1 in d:\\python3.10.1\\lib\\site-packages (from scikit-learn) (1.2.0)\n",
      "Requirement already satisfied: numpy>=1.17.3 in c:\\users\\shenyeli\\appdata\\roaming\\python\\python310\\site-packages (from scikit-learn) (1.23.0)\n",
      "Requirement already satisfied: scipy>=1.3.2 in d:\\python3.10.1\\lib\\site-packages (from scikit-learn) (1.8.1)\n",
      "Requirement already satisfied: pandas in d:\\python3.10.1\\lib\\site-packages (1.4.3)\n",
      "Requirement already satisfied: numpy>=1.21.0 in c:\\users\\shenyeli\\appdata\\roaming\\python\\python310\\site-packages (from pandas) (1.23.0)\n",
      "Requirement already satisfied: python-dateutil>=2.8.1 in d:\\python3.10.1\\lib\\site-packages (from pandas) (2.8.2)\n",
      "Requirement already satisfied: pytz>=2020.1 in d:\\python3.10.1\\lib\\site-packages (from pandas) (2022.1)\n",
      "Requirement already satisfied: six>=1.5 in d:\\python3.10.1\\lib\\site-packages (from python-dateutil>=2.8.1->pandas) (1.16.0)\n",
      "Note: you may need to restart the kernel to use updated packages.\n"
     ]
    },
    {
     "name": "stderr",
     "output_type": "stream",
     "text": [
      "WARNING: You are using pip version 21.2.4; however, version 23.1 is available.\n",
      "You should consider upgrading via the 'd:\\python3.10.1\\python.exe -m pip install --upgrade pip' command.\n"
     ]
    },
    {
     "name": "stdout",
     "output_type": "stream",
     "text": [
      "Requirement already satisfied: joblib in d:\\python3.10.1\\lib\\site-packages (1.2.0)Note: you may need to restart the kernel to use updated packages.\n",
      "\n"
     ]
    },
    {
     "name": "stderr",
     "output_type": "stream",
     "text": [
      "WARNING: You are using pip version 21.2.4; however, version 23.1 is available.\n",
      "You should consider upgrading via the 'd:\\python3.10.1\\python.exe -m pip install --upgrade pip' command.\n"
     ]
    }
   ],
   "source": [
    "%pip install scikit-learn\n",
    "%pip install pandas\n",
    "%pip install joblib"
   ]
  },
  {
   "cell_type": "code",
   "execution_count": 3,
   "metadata": {},
   "outputs": [
    {
     "name": "stderr",
     "output_type": "stream",
     "text": [
      "d:\\python3.10.1\\lib\\site-packages\\tqdm\\auto.py:22: TqdmWarning: IProgress not found. Please update jupyter and ipywidgets. See https://ipywidgets.readthedocs.io/en/stable/user_install.html\n",
      "  from .autonotebook import tqdm as notebook_tqdm\n"
     ]
    }
   ],
   "source": [
    "\n",
    "from load_data import *\n",
    "\n",
    "#考虑到时间，取前100k条\n",
    "X,Y=readcsv('data/Amazon_Unlocked_Mobile.csv',100000)\n",
    "X_train=X[0:70000]\n",
    "\n",
    "X_test=X[70000:100000]\n",
    "\n",
    "Y_train=Y[0:70000]\n",
    "Y_test=Y[70000:100000]"
   ]
  },
  {
   "attachments": {},
   "cell_type": "markdown",
   "metadata": {},
   "source": [
    "NB训练与评价"
   ]
  },
  {
   "cell_type": "code",
   "execution_count": 13,
   "metadata": {},
   "outputs": [],
   "source": [
    "import os\n",
    "import joblib\n",
    "\n",
    "# TFIDF模型\n",
    "from sklearn.feature_extraction.text import TfidfVectorizer\n",
    "# 管道模型可将两个算法进行连接\n",
    "from sklearn.pipeline import Pipeline"
   ]
  },
  {
   "cell_type": "code",
   "execution_count": 10,
   "metadata": {},
   "outputs": [
    {
     "name": "stdout",
     "output_type": "stream",
     "text": [
      "0.6557333333333333\n"
     ]
    }
   ],
   "source": [
    "# 朴素贝叶斯\n",
    "from sklearn.naive_bayes import MultinomialNB\n",
    "# 将TFIDF模型和朴素贝叶斯算法连接\n",
    "TFIDF_NB_Sentiment_Model = Pipeline([\n",
    "    ('TFIDF', TfidfVectorizer()),\n",
    "    ('NB', MultinomialNB())\n",
    "])\n",
    "\n",
    "nbm = TFIDF_NB_Sentiment_Model.fit(X_train,Y_train)\n",
    "nb_train_score = TFIDF_NB_Sentiment_Model.score(X_test,Y_test)\n",
    "os.makedirs('model/nb',exist_ok=True)\n",
    "joblib.dump(TFIDF_NB_Sentiment_Model, 'model/nb/tfidf_nb.model')\n",
    "print(nb_train_score)\n",
    " \n",
    " \n"
   ]
  },
  {
   "attachments": {},
   "cell_type": "markdown",
   "metadata": {},
   "source": [
    "SVM"
   ]
  },
  {
   "cell_type": "code",
   "execution_count": 19,
   "metadata": {},
   "outputs": [
    {
     "name": "stdout",
     "output_type": "stream",
     "text": [
      "[LibSVM]"
     ]
    },
    {
     "name": "stderr",
     "output_type": "stream",
     "text": [
      "d:\\python3.10.1\\lib\\site-packages\\sklearn\\svm\\_base.py:299: ConvergenceWarning: Solver terminated early (max_iter=300).  Consider pre-processing your data with StandardScaler or MinMaxScaler.\n",
      "  warnings.warn(\n"
     ]
    },
    {
     "name": "stdout",
     "output_type": "stream",
     "text": [
      "0.5381333333333334\n"
     ]
    }
   ],
   "source": [
    " \n",
    "#SVM进行训练\n",
    "\n",
    "from sklearn.svm import SVC\n",
    "\n",
    "TFIDF_SVM_Sentiment_Model = Pipeline([\n",
    "    ('TFIDF', TfidfVectorizer()),\n",
    "    ('SVM', SVC(C=0.5,cache_size=7000,max_iter=300,verbose=True))\n",
    "])\n",
    "TFIDF_SVM_Sentiment_Model.fit(X_train,Y_train)\n",
    "svm_test_score = TFIDF_SVM_Sentiment_Model.score(X_test,Y_test)\n",
    "os.makedirs('model/svm',exist_ok=True)\n",
    "joblib.dump(TFIDF_SVM_Sentiment_Model, 'model/svm/tfidf_svm.model')\n",
    "print(svm_test_score)"
   ]
  },
  {
   "attachments": {},
   "cell_type": "markdown",
   "metadata": {},
   "source": [
    "logistic regression"
   ]
  },
  {
   "cell_type": "code",
   "execution_count": 20,
   "metadata": {},
   "outputs": [
    {
     "name": "stderr",
     "output_type": "stream",
     "text": [
      "d:\\python3.10.1\\lib\\site-packages\\sklearn\\linear_model\\_logistic.py:458: ConvergenceWarning: lbfgs failed to converge (status=1):\n",
      "STOP: TOTAL NO. of ITERATIONS REACHED LIMIT.\n",
      "\n",
      "Increase the number of iterations (max_iter) or scale the data as shown in:\n",
      "    https://scikit-learn.org/stable/modules/preprocessing.html\n",
      "Please also refer to the documentation for alternative solver options:\n",
      "    https://scikit-learn.org/stable/modules/linear_model.html#logistic-regression\n",
      "  n_iter_i = _check_optimize_result(\n"
     ]
    },
    {
     "name": "stdout",
     "output_type": "stream",
     "text": [
      "0.7314333333333334\n"
     ]
    }
   ],
   "source": [
    "from sklearn.linear_model import LogisticRegression\n",
    " \n",
    "TFIDF_LR_Sentiment_Model = Pipeline([\n",
    "    ('TFIDF', TfidfVectorizer()),\n",
    "    ('logisticregression', LogisticRegression(max_iter=300,multi_class='multinomial'))\n",
    "])\n",
    "TFIDF_LR_Sentiment_Model.fit(X_train,Y_train)\n",
    "lr_test_score = TFIDF_LR_Sentiment_Model.score(X_test,Y_test)\n",
    "os.makedirs('model/lr',exist_ok=True)\n",
    "joblib.dump(TFIDF_LR_Sentiment_Model, 'model/lr/tfidf_lr.model')\n",
    "print(lr_test_score)"
   ]
  },
  {
   "attachments": {},
   "cell_type": "markdown",
   "metadata": {},
   "source": [
    "SVD+logistic regression"
   ]
  },
  {
   "cell_type": "code",
   "execution_count": 21,
   "metadata": {},
   "outputs": [
    {
     "name": "stdout",
     "output_type": "stream",
     "text": [
      "0.7105333333333334\n"
     ]
    }
   ],
   "source": [
    "from sklearn.linear_model import LogisticRegression\n",
    "from sklearn.decomposition import TruncatedSVD\n",
    "TFIDF_SVD_LR_Sentiment_Model = Pipeline([\n",
    "    ('TFIDF', TfidfVectorizer()),\n",
    "    ('SVD',TruncatedSVD(1024)),\n",
    "    ('logisticregression', LogisticRegression(max_iter=300,multi_class='multinomial'))\n",
    "])\n",
    "TFIDF_SVD_LR_Sentiment_Model.fit(X_train,Y_train)\n",
    "lr_test_score = TFIDF_SVD_LR_Sentiment_Model.score(X_test,Y_test)\n",
    "os.makedirs('model/lr',exist_ok=True)\n",
    "joblib.dump(TFIDF_SVD_LR_Sentiment_Model, 'model/lr/tfidf_svd_lr.model')\n",
    "print(lr_test_score)"
   ]
  },
  {
   "attachments": {},
   "cell_type": "markdown",
   "metadata": {},
   "source": [
    "预测函数API"
   ]
  },
  {
   "cell_type": "code",
   "execution_count": 22,
   "metadata": {},
   "outputs": [
    {
     "name": "stdout",
     "output_type": "stream",
     "text": [
      "The predicted rating is 4/5.\n"
     ]
    }
   ],
   "source": [
    "def Predict(text):\n",
    "    #模型路径自行更改\n",
    "    model = joblib.load('model/lr/tfidf_svd_lr.model')\n",
    "\n",
    "    y_pre =model.predict([text])\n",
    "    print(f\"The predicted rating is {y_pre[0]}/5.\")\n",
    "\n",
    "Predict(\"I like it but there are some shortcomings\")"
   ]
  }
 ],
 "metadata": {
  "kernelspec": {
   "display_name": "pytorch",
   "language": "python",
   "name": "python3"
  },
  "language_info": {
   "codemirror_mode": {
    "name": "ipython",
    "version": 3
   },
   "file_extension": ".py",
   "mimetype": "text/x-python",
   "name": "python",
   "nbconvert_exporter": "python",
   "pygments_lexer": "ipython3",
   "version": "3.10.1"
  },
  "orig_nbformat": 4
 },
 "nbformat": 4,
 "nbformat_minor": 2
}
